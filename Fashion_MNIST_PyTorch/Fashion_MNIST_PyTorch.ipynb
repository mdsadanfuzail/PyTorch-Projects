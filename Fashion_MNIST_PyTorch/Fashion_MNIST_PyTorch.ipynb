{
  "nbformat": 4,
  "nbformat_minor": 0,
  "metadata": {
    "colab": {
      "provenance": [],
      "gpuType": "T4"
    },
    "kernelspec": {
      "name": "python3",
      "display_name": "Python 3"
    },
    "language_info": {
      "name": "python"
    },
    "accelerator": "GPU"
  },
  "cells": [
    {
      "cell_type": "markdown",
      "source": [
        "# CNN for Fashion MNIST dataset\n",
        "\n",
        "I have used Pytorch for this project, and also this is with some of the **Regularisation techniques**.\n",
        "\n",
        "### Regularisation techniques:\n",
        "1. Data Augmentation\n",
        "\n",
        "2. Batch Normalisation\n",
        "\n",
        "3. Dropout\n",
        "\n",
        "### Regularisation Tips:\n",
        "* It is Always good to train a model without Regularisation first and get a baseline for the model.\n",
        "\n",
        "* Next you can use Regularisation techniques in order or one by one to improve model performance.\n",
        "\n",
        "\n",
        "\n"
      ],
      "metadata": {
        "id": "0yQ6jeY9IwXs"
      }
    },
    {
      "cell_type": "code",
      "source": [
        "# Importing libraries\n",
        "\n",
        "import torch\n",
        "import torch.nn as nn\n",
        "import torch.nn.functional as F\n",
        "import torch.optim as optim\n",
        "import torchvision\n",
        "import torchvision.transforms as transforms\n",
        "\n",
        "import PIL\n",
        "import numpy as np\n",
        "\n",
        "print(torch.cuda.is_available())"
      ],
      "metadata": {
        "colab": {
          "base_uri": "https://localhost:8080/"
        },
        "id": "p0c6VyQAK_8H",
        "outputId": "62e241f7-bb01-4183-bd42-a6a3e7c24493"
      },
      "execution_count": 3,
      "outputs": [
        {
          "output_type": "stream",
          "name": "stdout",
          "text": [
            "True\n"
          ]
        }
      ]
    },
    {
      "cell_type": "code",
      "source": [
        "device = 'cuda'"
      ],
      "metadata": {
        "id": "yYkoWmmhNA8Z"
      },
      "execution_count": 4,
      "outputs": []
    },
    {
      "cell_type": "code",
      "source": [
        "# Data Augmentation\n",
        "# We apply only Data Augmentation on training\n",
        "data_transforms ={\n",
        "    'train': transforms.Compose([\n",
        "        transforms.RandomAffine(degrees = 10, translate = (0.05, 0.05), shear = 5),\n",
        "        transforms.ColorJitter(hue = 0.05, saturation = 0.05),\n",
        "        transforms.RandomHorizontalFlip(),\n",
        "        transforms.RandomRotation(15, interpolation = transforms.InterpolationMode.BILINEAR),\n",
        "        transforms.Grayscale(num_output_channels = 1),\n",
        "        transforms.ToTensor(),\n",
        "        transforms.Normalize((0.5, ), (0.5, ))\n",
        "    ]),\n",
        "\n",
        "    'val': transforms.Compose([\n",
        "        transforms.ToTensor(),\n",
        "        transforms.Normalize((0.5, ), (0.5, ))\n",
        "    ])\n",
        "}\n",
        "\n"
      ],
      "metadata": {
        "id": "Fe0ctf5RNA-x"
      },
      "execution_count": 5,
      "outputs": []
    },
    {
      "cell_type": "code",
      "source": [
        "# Getting our Data\n",
        "trainset = torchvision.datasets.FashionMNIST(\n",
        "                                             root = './data',\n",
        "                                             train=True,\n",
        "                                             download=True,\n",
        "                                             transform= data_transforms['train'])\n",
        "\n",
        "testset = torchvision.datasets.FashionMNIST(root = './data',\n",
        "                                             train=False,\n",
        "                                             download=True,\n",
        "                                             transform= data_transforms['val'])"
      ],
      "metadata": {
        "colab": {
          "base_uri": "https://localhost:8080/"
        },
        "id": "kprlIIOFNBB2",
        "outputId": "c61b8b36-5877-4b7d-8af0-1e1f15394df3"
      },
      "execution_count": 6,
      "outputs": [
        {
          "output_type": "stream",
          "name": "stdout",
          "text": [
            "Downloading http://fashion-mnist.s3-website.eu-central-1.amazonaws.com/train-images-idx3-ubyte.gz\n",
            "Downloading http://fashion-mnist.s3-website.eu-central-1.amazonaws.com/train-images-idx3-ubyte.gz to ./data/FashionMNIST/raw/train-images-idx3-ubyte.gz\n"
          ]
        },
        {
          "output_type": "stream",
          "name": "stderr",
          "text": [
            "100%|██████████| 26.4M/26.4M [00:01<00:00, 13.6MB/s]\n"
          ]
        },
        {
          "output_type": "stream",
          "name": "stdout",
          "text": [
            "Extracting ./data/FashionMNIST/raw/train-images-idx3-ubyte.gz to ./data/FashionMNIST/raw\n",
            "\n",
            "Downloading http://fashion-mnist.s3-website.eu-central-1.amazonaws.com/train-labels-idx1-ubyte.gz\n",
            "Downloading http://fashion-mnist.s3-website.eu-central-1.amazonaws.com/train-labels-idx1-ubyte.gz to ./data/FashionMNIST/raw/train-labels-idx1-ubyte.gz\n"
          ]
        },
        {
          "output_type": "stream",
          "name": "stderr",
          "text": [
            "100%|██████████| 29.5k/29.5k [00:00<00:00, 203kB/s]\n"
          ]
        },
        {
          "output_type": "stream",
          "name": "stdout",
          "text": [
            "Extracting ./data/FashionMNIST/raw/train-labels-idx1-ubyte.gz to ./data/FashionMNIST/raw\n",
            "\n",
            "Downloading http://fashion-mnist.s3-website.eu-central-1.amazonaws.com/t10k-images-idx3-ubyte.gz\n",
            "Downloading http://fashion-mnist.s3-website.eu-central-1.amazonaws.com/t10k-images-idx3-ubyte.gz to ./data/FashionMNIST/raw/t10k-images-idx3-ubyte.gz\n"
          ]
        },
        {
          "output_type": "stream",
          "name": "stderr",
          "text": [
            "100%|██████████| 4.42M/4.42M [00:01<00:00, 3.77MB/s]\n"
          ]
        },
        {
          "output_type": "stream",
          "name": "stdout",
          "text": [
            "Extracting ./data/FashionMNIST/raw/t10k-images-idx3-ubyte.gz to ./data/FashionMNIST/raw\n",
            "\n",
            "Downloading http://fashion-mnist.s3-website.eu-central-1.amazonaws.com/t10k-labels-idx1-ubyte.gz\n",
            "Downloading http://fashion-mnist.s3-website.eu-central-1.amazonaws.com/t10k-labels-idx1-ubyte.gz to ./data/FashionMNIST/raw/t10k-labels-idx1-ubyte.gz\n"
          ]
        },
        {
          "output_type": "stream",
          "name": "stderr",
          "text": [
            "100%|██████████| 5.15k/5.15k [00:00<00:00, 21.4MB/s]"
          ]
        },
        {
          "output_type": "stream",
          "name": "stdout",
          "text": [
            "Extracting ./data/FashionMNIST/raw/t10k-labels-idx1-ubyte.gz to ./data/FashionMNIST/raw\n",
            "\n"
          ]
        },
        {
          "output_type": "stream",
          "name": "stderr",
          "text": [
            "\n"
          ]
        }
      ]
    },
    {
      "cell_type": "code",
      "source": [
        "# Data Loader\n",
        "\n",
        "train_loader = torch.utils.data.DataLoader(\n",
        "    trainset,\n",
        "    batch_size = 32,\n",
        "    shuffle = True\n",
        ")\n",
        "\n",
        "test_loader = torch.utils.data.DataLoader(\n",
        "    testset,\n",
        "    batch_size = 32,\n",
        "    shuffle = False\n",
        ")"
      ],
      "metadata": {
        "id": "GF8qenMONBEZ"
      },
      "execution_count": 7,
      "outputs": []
    },
    {
      "cell_type": "code",
      "source": [
        "# Lets view our dataset\n",
        "import matplotlib.pyplot as plt\n",
        "\n",
        "figure = plt.figure()\n",
        "no_images = 40\n",
        "\n",
        "for i in range(1, no_images+1):\n",
        "  plt.subplot(5, 10, i)\n",
        "  plt.axis('off')\n",
        "  plt.imshow(trainset.data[i], cmap = 'gray_r')"
      ],
      "metadata": {
        "colab": {
          "base_uri": "https://localhost:8080/",
          "height": 308
        },
        "id": "kryMkUNSHiuW",
        "outputId": "f97bae4d-6e3a-4775-9f3f-81d35ceaec53"
      },
      "execution_count": 8,
      "outputs": [
        {
          "output_type": "display_data",
          "data": {
            "text/plain": [
              "<Figure size 640x480 with 40 Axes>"
            ],
            "image/png": "[encoded data removed]"
          },
          "metadata": {}
        }
      ]
    },
    {
      "cell_type": "code",
      "source": [
        "# The CNN Structure\n",
        "\n",
        "class CNN(nn.Module):\n",
        "  def __init__(self):\n",
        "    super(CNN, self).__init__()\n",
        "\n",
        "    self.conv1 = nn.Conv2d(1, 32, 3)\n",
        "    self.conv1_bn = nn.BatchNorm2d(32)\n",
        "\n",
        "    self.conv2 = nn.Conv2d(32, 64, 3)\n",
        "    self.conv2_bn = nn.BatchNorm2d(64)\n",
        "\n",
        "    self.pool = nn.MaxPool2d(2, 2)\n",
        "\n",
        "    self.fc1 = nn.Linear(64*12*12, 128)\n",
        "    self.fc2 = nn.Linear(128, 10)\n",
        "\n",
        "    self.dropout = nn.Dropout(0.2)\n",
        "\n",
        "  def forward(self, x):\n",
        "    x = F.relu(self.conv1_bn(self.conv1(x)))\n",
        "    x = self.dropout(x)\n",
        "\n",
        "    x = F.relu(self.conv2_bn(self.conv2(x)))\n",
        "    x = self.dropout(x)\n",
        "\n",
        "    x = self.pool(x)\n",
        "\n",
        "    x = x.view(-1, 64*12*12)\n",
        "    x = F.relu(self.fc1(x))\n",
        "    x = self.fc2(x)\n",
        "\n",
        "    return x\n",
        "\n",
        "\n",
        "cnn = CNN()\n",
        "cnn.to(device)\n",
        "\n",
        "\n",
        "\n",
        "\n"
      ],
      "metadata": {
        "colab": {
          "base_uri": "https://localhost:8080/"
        },
        "id": "lgr6B82mNBH8",
        "outputId": "719c141c-501b-46a8-a9be-efa8d445c649"
      },
      "execution_count": null,
      "outputs": [
        {
          "output_type": "execute_result",
          "data": {
            "text/plain": [
              "CNN(\n",
              "  (conv1): Conv2d(1, 32, kernel_size=(3, 3), stride=(1, 1))\n",
              "  (conv1_bn): BatchNorm2d(32, eps=1e-05, momentum=0.1, affine=True, track_running_stats=True)\n",
              "  (conv2): Conv2d(32, 64, kernel_size=(3, 3), stride=(1, 1))\n",
              "  (conv2_bn): BatchNorm2d(64, eps=1e-05, momentum=0.1, affine=True, track_running_stats=True)\n",
              "  (pool): MaxPool2d(kernel_size=2, stride=2, padding=0, dilation=1, ceil_mode=False)\n",
              "  (fc1): Linear(in_features=9216, out_features=128, bias=True)\n",
              "  (fc2): Linear(in_features=128, out_features=10, bias=True)\n",
              "  (dropout): Dropout(p=0.2, inplace=False)\n",
              ")"
            ]
          },
          "metadata": {},
          "execution_count": 14
        }
      ]
    },
    {
      "cell_type": "code",
      "source": [
        "# Optimizer and Loss\n",
        "\n",
        "criterion = nn.CrossEntropyLoss()\n",
        "\n",
        "optimizer = optim.SGD(cnn.parameters(), lr = 0.001, momentum = 0.9)"
      ],
      "metadata": {
        "id": "sXwJjy6bTClR"
      },
      "execution_count": null,
      "outputs": []
    },
    {
      "cell_type": "code",
      "source": [
        "# Training the Model\n",
        "\n",
        "epochs = 15\n",
        "\n",
        "epoch_log = []\n",
        "loss_log = []\n",
        "accuracy_log = []\n",
        "\n",
        "for epoch in range(epochs):\n",
        "  print(f'Starting epoch no:{epoch+1}')\n",
        "\n",
        "  running_loss = 0.0\n",
        "\n",
        "  for i, data in enumerate(train_loader, 0):\n",
        "    inputs, labels = data\n",
        "\n",
        "    inputs = inputs.to(device)\n",
        "    labels = labels.to(device)\n",
        "\n",
        "    optimizer.zero_grad()\n",
        "\n",
        "    outputs = cnn(inputs)\n",
        "    loss = criterion(outputs, labels)\n",
        "    loss.backward()\n",
        "    optimizer.step()\n",
        "\n",
        "    running_loss += loss.item()\n",
        "    if i % 100 == 99:\n",
        "      correct = 0\n",
        "      total = 0\n",
        "\n",
        "      with torch.no_grad():\n",
        "        for data in test_loader:\n",
        "          images, labels = data\n",
        "\n",
        "          images = images.to(device)\n",
        "          labels = labels.to(device)\n",
        "\n",
        "          outputs = cnn(images)\n",
        "\n",
        "          _, pred = torch.max(outputs.data, 1)\n",
        "          total += labels.size(0)\n",
        "          correct += (pred == labels).sum().item()\n",
        "\n",
        "        accuracy = 100*(correct/total)\n",
        "        Current_epoch = epoch+1\n",
        "        Current_loss = running_loss/50\n",
        "        print(f'Epoch: {Current_epoch}, Loss: {Current_loss:.4f}, Test_Accuracy: {accuracy:.4f}%')\n",
        "        running_loss = 0.0\n",
        "\n",
        "  epoch_log.append(Current_epoch)\n",
        "  loss_log.append(Current_loss)\n",
        "  accuracy_log.append(accuracy)\n",
        "\n",
        "print('The training has finished')\n",
        "\n",
        "\n"
      ],
      "metadata": {
        "colab": {
          "base_uri": "https://localhost:8080/"
        },
        "id": "BMFtWGK2TCol",
        "outputId": "6a6fd7ba-23d5-4ce6-f6f4-bd9fba341c4b"
      },
      "execution_count": null,
      "outputs": [
        {
          "output_type": "stream",
          "name": "stdout",
          "text": [
            "Starting epoch no:1\n",
            "Epoch: 1, Loss: 1.1325, Test_Accuracy: 81.5300%\n",
            "Epoch: 1, Loss: 1.1102, Test_Accuracy: 82.5900%\n",
            "Epoch: 1, Loss: 1.1254, Test_Accuracy: 83.0700%\n",
            "Epoch: 1, Loss: 1.0532, Test_Accuracy: 79.6400%\n",
            "Epoch: 1, Loss: 1.0804, Test_Accuracy: 83.0600%\n",
            "Epoch: 1, Loss: 1.0869, Test_Accuracy: 82.7000%\n",
            "Epoch: 1, Loss: 1.0627, Test_Accuracy: 83.5300%\n",
            "Epoch: 1, Loss: 1.0423, Test_Accuracy: 83.6500%\n",
            "Epoch: 1, Loss: 1.0470, Test_Accuracy: 83.7100%\n",
            "Epoch: 1, Loss: 0.9795, Test_Accuracy: 83.7000%\n",
            "Epoch: 1, Loss: 0.9708, Test_Accuracy: 82.6300%\n",
            "Epoch: 1, Loss: 0.9458, Test_Accuracy: 84.1000%\n",
            "Epoch: 1, Loss: 1.0289, Test_Accuracy: 83.9400%\n",
            "Epoch: 1, Loss: 1.0185, Test_Accuracy: 84.7000%\n",
            "Epoch: 1, Loss: 0.9759, Test_Accuracy: 82.2200%\n",
            "Epoch: 1, Loss: 0.9583, Test_Accuracy: 84.1000%\n",
            "Epoch: 1, Loss: 0.9970, Test_Accuracy: 83.8000%\n",
            "Epoch: 1, Loss: 0.9594, Test_Accuracy: 85.5000%\n",
            "Starting epoch no:2\n",
            "Epoch: 2, Loss: 0.9643, Test_Accuracy: 83.9200%\n",
            "Epoch: 2, Loss: 0.9210, Test_Accuracy: 85.2700%\n",
            "Epoch: 2, Loss: 0.9299, Test_Accuracy: 85.4400%\n",
            "Epoch: 2, Loss: 0.8866, Test_Accuracy: 83.3700%\n",
            "Epoch: 2, Loss: 0.9396, Test_Accuracy: 85.0700%\n",
            "Epoch: 2, Loss: 0.9223, Test_Accuracy: 83.6800%\n",
            "Epoch: 2, Loss: 0.9107, Test_Accuracy: 85.3500%\n",
            "Epoch: 2, Loss: 0.9018, Test_Accuracy: 86.1600%\n",
            "Epoch: 2, Loss: 0.9103, Test_Accuracy: 85.2400%\n",
            "Epoch: 2, Loss: 0.8570, Test_Accuracy: 85.9700%\n",
            "Epoch: 2, Loss: 0.9038, Test_Accuracy: 85.0000%\n",
            "Epoch: 2, Loss: 0.8287, Test_Accuracy: 85.9900%\n",
            "Epoch: 2, Loss: 0.9005, Test_Accuracy: 85.7300%\n",
            "Epoch: 2, Loss: 0.9338, Test_Accuracy: 85.7700%\n",
            "Epoch: 2, Loss: 0.8886, Test_Accuracy: 85.8000%\n",
            "Epoch: 2, Loss: 0.8958, Test_Accuracy: 86.1700%\n",
            "Epoch: 2, Loss: 0.8393, Test_Accuracy: 86.7500%\n",
            "Epoch: 2, Loss: 0.9081, Test_Accuracy: 85.7600%\n",
            "Starting epoch no:3\n",
            "Epoch: 3, Loss: 0.8132, Test_Accuracy: 86.8400%\n",
            "Epoch: 3, Loss: 0.8286, Test_Accuracy: 85.3000%\n",
            "Epoch: 3, Loss: 0.8581, Test_Accuracy: 87.2100%\n",
            "Epoch: 3, Loss: 0.8954, Test_Accuracy: 84.8200%\n",
            "Epoch: 3, Loss: 0.8088, Test_Accuracy: 84.9000%\n",
            "Epoch: 3, Loss: 0.8783, Test_Accuracy: 86.4400%\n",
            "Epoch: 3, Loss: 0.8374, Test_Accuracy: 87.0400%\n",
            "Epoch: 3, Loss: 0.8412, Test_Accuracy: 86.0800%\n",
            "Epoch: 3, Loss: 0.8859, Test_Accuracy: 86.3300%\n",
            "Epoch: 3, Loss: 0.8411, Test_Accuracy: 87.1400%\n",
            "Epoch: 3, Loss: 0.8228, Test_Accuracy: 86.7700%\n",
            "Epoch: 3, Loss: 0.8352, Test_Accuracy: 85.4200%\n",
            "Epoch: 3, Loss: 0.8298, Test_Accuracy: 85.7900%\n",
            "Epoch: 3, Loss: 0.8230, Test_Accuracy: 87.0900%\n",
            "Epoch: 3, Loss: 0.8585, Test_Accuracy: 87.0600%\n",
            "Epoch: 3, Loss: 0.8100, Test_Accuracy: 86.8700%\n",
            "Epoch: 3, Loss: 0.8668, Test_Accuracy: 87.4900%\n",
            "Epoch: 3, Loss: 0.8313, Test_Accuracy: 87.1600%\n",
            "Starting epoch no:4\n",
            "Epoch: 4, Loss: 0.7867, Test_Accuracy: 86.9200%\n",
            "Epoch: 4, Loss: 0.7915, Test_Accuracy: 86.9100%\n",
            "Epoch: 4, Loss: 0.7897, Test_Accuracy: 86.4900%\n",
            "Epoch: 4, Loss: 0.8242, Test_Accuracy: 86.6700%\n",
            "Epoch: 4, Loss: 0.8300, Test_Accuracy: 86.4400%\n",
            "Epoch: 4, Loss: 0.7980, Test_Accuracy: 87.6000%\n",
            "Epoch: 4, Loss: 0.7438, Test_Accuracy: 87.6200%\n",
            "Epoch: 4, Loss: 0.8083, Test_Accuracy: 87.6400%\n",
            "Epoch: 4, Loss: 0.7344, Test_Accuracy: 87.6200%\n",
            "Epoch: 4, Loss: 0.7704, Test_Accuracy: 86.5600%\n",
            "Epoch: 4, Loss: 0.7944, Test_Accuracy: 86.7600%\n",
            "Epoch: 4, Loss: 0.8124, Test_Accuracy: 86.9700%\n",
            "Epoch: 4, Loss: 0.6830, Test_Accuracy: 87.5100%\n",
            "Epoch: 4, Loss: 0.7898, Test_Accuracy: 86.3000%\n",
            "Epoch: 4, Loss: 0.7632, Test_Accuracy: 87.6100%\n",
            "Epoch: 4, Loss: 0.7917, Test_Accuracy: 87.7300%\n",
            "Epoch: 4, Loss: 0.8068, Test_Accuracy: 87.5400%\n",
            "Epoch: 4, Loss: 0.7825, Test_Accuracy: 87.8400%\n",
            "Starting epoch no:5\n",
            "Epoch: 5, Loss: 0.7907, Test_Accuracy: 86.7100%\n",
            "Epoch: 5, Loss: 0.7567, Test_Accuracy: 87.3400%\n",
            "Epoch: 5, Loss: 0.7654, Test_Accuracy: 87.6800%\n",
            "Epoch: 5, Loss: 0.7439, Test_Accuracy: 87.4100%\n",
            "Epoch: 5, Loss: 0.7448, Test_Accuracy: 87.0500%\n",
            "Epoch: 5, Loss: 0.7115, Test_Accuracy: 87.6800%\n",
            "Epoch: 5, Loss: 0.7203, Test_Accuracy: 87.6200%\n",
            "Epoch: 5, Loss: 0.7638, Test_Accuracy: 87.9400%\n",
            "Epoch: 5, Loss: 0.7566, Test_Accuracy: 87.9200%\n",
            "Epoch: 5, Loss: 0.7929, Test_Accuracy: 87.6100%\n",
            "Epoch: 5, Loss: 0.7463, Test_Accuracy: 87.7100%\n",
            "Epoch: 5, Loss: 0.7533, Test_Accuracy: 88.2100%\n",
            "Epoch: 5, Loss: 0.7219, Test_Accuracy: 87.4900%\n",
            "Epoch: 5, Loss: 0.7741, Test_Accuracy: 88.1500%\n",
            "Epoch: 5, Loss: 0.7193, Test_Accuracy: 88.1000%\n",
            "Epoch: 5, Loss: 0.7253, Test_Accuracy: 87.6800%\n",
            "Epoch: 5, Loss: 0.7667, Test_Accuracy: 87.5800%\n",
            "Epoch: 5, Loss: 0.7317, Test_Accuracy: 88.2300%\n",
            "Starting epoch no:6\n",
            "Epoch: 6, Loss: 0.7146, Test_Accuracy: 87.7100%\n",
            "Epoch: 6, Loss: 0.7061, Test_Accuracy: 88.3500%\n",
            "Epoch: 6, Loss: 0.7634, Test_Accuracy: 88.3200%\n",
            "Epoch: 6, Loss: 0.7120, Test_Accuracy: 88.1400%\n",
            "Epoch: 6, Loss: 0.7421, Test_Accuracy: 87.6500%\n",
            "Epoch: 6, Loss: 0.7214, Test_Accuracy: 88.0900%\n",
            "Epoch: 6, Loss: 0.7150, Test_Accuracy: 87.6000%\n",
            "Epoch: 6, Loss: 0.7134, Test_Accuracy: 88.3100%\n",
            "Epoch: 6, Loss: 0.7059, Test_Accuracy: 88.3000%\n",
            "Epoch: 6, Loss: 0.7981, Test_Accuracy: 88.7000%\n",
            "Epoch: 6, Loss: 0.7219, Test_Accuracy: 88.0600%\n",
            "Epoch: 6, Loss: 0.7530, Test_Accuracy: 88.2300%\n",
            "Epoch: 6, Loss: 0.7339, Test_Accuracy: 87.8100%\n",
            "Epoch: 6, Loss: 0.7197, Test_Accuracy: 87.4600%\n",
            "Epoch: 6, Loss: 0.7472, Test_Accuracy: 88.0200%\n",
            "Epoch: 6, Loss: 0.7126, Test_Accuracy: 88.1100%\n",
            "Epoch: 6, Loss: 0.7407, Test_Accuracy: 88.1800%\n",
            "Epoch: 6, Loss: 0.6997, Test_Accuracy: 88.7500%\n",
            "Starting epoch no:7\n",
            "Epoch: 7, Loss: 0.7267, Test_Accuracy: 88.7500%\n",
            "Epoch: 7, Loss: 0.6982, Test_Accuracy: 88.3100%\n",
            "Epoch: 7, Loss: 0.7079, Test_Accuracy: 88.4400%\n",
            "Epoch: 7, Loss: 0.7354, Test_Accuracy: 88.4300%\n",
            "Epoch: 7, Loss: 0.7642, Test_Accuracy: 88.4100%\n",
            "Epoch: 7, Loss: 0.6980, Test_Accuracy: 88.7900%\n",
            "Epoch: 7, Loss: 0.7114, Test_Accuracy: 87.9000%\n",
            "Epoch: 7, Loss: 0.6810, Test_Accuracy: 88.7000%\n",
            "Epoch: 7, Loss: 0.6444, Test_Accuracy: 88.1700%\n",
            "Epoch: 7, Loss: 0.6584, Test_Accuracy: 88.4300%\n",
            "Epoch: 7, Loss: 0.6744, Test_Accuracy: 88.6500%\n",
            "Epoch: 7, Loss: 0.7357, Test_Accuracy: 88.0200%\n",
            "Epoch: 7, Loss: 0.7028, Test_Accuracy: 88.3800%\n",
            "Epoch: 7, Loss: 0.7428, Test_Accuracy: 88.5100%\n",
            "Epoch: 7, Loss: 0.7490, Test_Accuracy: 87.9100%\n",
            "Epoch: 7, Loss: 0.7459, Test_Accuracy: 88.4000%\n",
            "Epoch: 7, Loss: 0.7172, Test_Accuracy: 88.5200%\n",
            "Epoch: 7, Loss: 0.7112, Test_Accuracy: 88.6300%\n",
            "Starting epoch no:8\n",
            "Epoch: 8, Loss: 0.7188, Test_Accuracy: 88.7700%\n",
            "Epoch: 8, Loss: 0.6983, Test_Accuracy: 88.8600%\n",
            "Epoch: 8, Loss: 0.7272, Test_Accuracy: 88.7900%\n",
            "Epoch: 8, Loss: 0.7155, Test_Accuracy: 88.5200%\n",
            "Epoch: 8, Loss: 0.6505, Test_Accuracy: 88.2100%\n",
            "Epoch: 8, Loss: 0.6739, Test_Accuracy: 88.7000%\n",
            "Epoch: 8, Loss: 0.6938, Test_Accuracy: 88.8400%\n",
            "Epoch: 8, Loss: 0.6841, Test_Accuracy: 88.1100%\n",
            "Epoch: 8, Loss: 0.6495, Test_Accuracy: 88.6300%\n",
            "Epoch: 8, Loss: 0.6511, Test_Accuracy: 89.2700%\n",
            "Epoch: 8, Loss: 0.6607, Test_Accuracy: 88.4100%\n",
            "Epoch: 8, Loss: 0.6578, Test_Accuracy: 88.9500%\n",
            "Epoch: 8, Loss: 0.6893, Test_Accuracy: 88.8600%\n",
            "Epoch: 8, Loss: 0.6993, Test_Accuracy: 88.5400%\n",
            "Epoch: 8, Loss: 0.6998, Test_Accuracy: 89.0800%\n",
            "Epoch: 8, Loss: 0.6523, Test_Accuracy: 89.3200%\n",
            "Epoch: 8, Loss: 0.6903, Test_Accuracy: 88.7300%\n",
            "Epoch: 8, Loss: 0.6468, Test_Accuracy: 89.2300%\n",
            "Starting epoch no:9\n",
            "Epoch: 9, Loss: 0.6374, Test_Accuracy: 88.0000%\n",
            "Epoch: 9, Loss: 0.6714, Test_Accuracy: 89.1600%\n",
            "Epoch: 9, Loss: 0.7020, Test_Accuracy: 89.0600%\n",
            "Epoch: 9, Loss: 0.6678, Test_Accuracy: 88.4200%\n",
            "Epoch: 9, Loss: 0.6769, Test_Accuracy: 89.2000%\n",
            "Epoch: 9, Loss: 0.6780, Test_Accuracy: 89.1500%\n",
            "Epoch: 9, Loss: 0.6531, Test_Accuracy: 89.1200%\n",
            "Epoch: 9, Loss: 0.6151, Test_Accuracy: 89.0600%\n",
            "Epoch: 9, Loss: 0.6703, Test_Accuracy: 88.6500%\n",
            "Epoch: 9, Loss: 0.6891, Test_Accuracy: 89.4000%\n",
            "Epoch: 9, Loss: 0.6477, Test_Accuracy: 88.9800%\n",
            "Epoch: 9, Loss: 0.6920, Test_Accuracy: 88.5400%\n",
            "Epoch: 9, Loss: 0.6703, Test_Accuracy: 88.8200%\n",
            "Epoch: 9, Loss: 0.6706, Test_Accuracy: 89.4300%\n",
            "Epoch: 9, Loss: 0.6671, Test_Accuracy: 89.1800%\n",
            "Epoch: 9, Loss: 0.6776, Test_Accuracy: 88.7300%\n",
            "Epoch: 9, Loss: 0.6271, Test_Accuracy: 89.4900%\n",
            "Epoch: 9, Loss: 0.6775, Test_Accuracy: 88.9100%\n",
            "Starting epoch no:10\n",
            "Epoch: 10, Loss: 0.6655, Test_Accuracy: 88.7500%\n",
            "Epoch: 10, Loss: 0.6936, Test_Accuracy: 88.5200%\n",
            "Epoch: 10, Loss: 0.6323, Test_Accuracy: 88.8600%\n",
            "Epoch: 10, Loss: 0.6609, Test_Accuracy: 88.6200%\n",
            "Epoch: 10, Loss: 0.6505, Test_Accuracy: 89.4400%\n",
            "Epoch: 10, Loss: 0.6529, Test_Accuracy: 88.7900%\n",
            "Epoch: 10, Loss: 0.6798, Test_Accuracy: 88.8700%\n",
            "Epoch: 10, Loss: 0.6570, Test_Accuracy: 89.0800%\n",
            "Epoch: 10, Loss: 0.6376, Test_Accuracy: 88.9400%\n",
            "Epoch: 10, Loss: 0.6721, Test_Accuracy: 88.6500%\n",
            "Epoch: 10, Loss: 0.6515, Test_Accuracy: 89.6600%\n",
            "Epoch: 10, Loss: 0.6832, Test_Accuracy: 89.4800%\n",
            "Epoch: 10, Loss: 0.6789, Test_Accuracy: 89.3800%\n",
            "Epoch: 10, Loss: 0.6289, Test_Accuracy: 89.3700%\n",
            "Epoch: 10, Loss: 0.6660, Test_Accuracy: 87.3700%\n",
            "Epoch: 10, Loss: 0.7015, Test_Accuracy: 88.8100%\n",
            "Epoch: 10, Loss: 0.6107, Test_Accuracy: 89.4400%\n",
            "Epoch: 10, Loss: 0.6238, Test_Accuracy: 89.7700%\n",
            "Starting epoch no:11\n",
            "Epoch: 11, Loss: 0.6978, Test_Accuracy: 89.2800%\n",
            "Epoch: 11, Loss: 0.6624, Test_Accuracy: 89.3000%\n",
            "Epoch: 11, Loss: 0.6282, Test_Accuracy: 89.2900%\n",
            "Epoch: 11, Loss: 0.6159, Test_Accuracy: 89.2400%\n",
            "Epoch: 11, Loss: 0.6304, Test_Accuracy: 88.8700%\n",
            "Epoch: 11, Loss: 0.6713, Test_Accuracy: 88.8800%\n",
            "Epoch: 11, Loss: 0.6453, Test_Accuracy: 88.3300%\n",
            "Epoch: 11, Loss: 0.6518, Test_Accuracy: 88.8300%\n",
            "Epoch: 11, Loss: 0.5936, Test_Accuracy: 88.8700%\n",
            "Epoch: 11, Loss: 0.6608, Test_Accuracy: 89.3700%\n",
            "Epoch: 11, Loss: 0.6988, Test_Accuracy: 89.4600%\n",
            "Epoch: 11, Loss: 0.6340, Test_Accuracy: 89.4100%\n",
            "Epoch: 11, Loss: 0.6249, Test_Accuracy: 89.2000%\n",
            "Epoch: 11, Loss: 0.6490, Test_Accuracy: 89.7100%\n",
            "Epoch: 11, Loss: 0.6561, Test_Accuracy: 88.5600%\n",
            "Epoch: 11, Loss: 0.6679, Test_Accuracy: 88.5800%\n",
            "Epoch: 11, Loss: 0.6514, Test_Accuracy: 88.4800%\n",
            "Epoch: 11, Loss: 0.6105, Test_Accuracy: 89.7700%\n",
            "Starting epoch no:12\n",
            "Epoch: 12, Loss: 0.6371, Test_Accuracy: 89.5700%\n",
            "Epoch: 12, Loss: 0.6160, Test_Accuracy: 89.6400%\n",
            "Epoch: 12, Loss: 0.6421, Test_Accuracy: 89.2900%\n",
            "Epoch: 12, Loss: 0.6295, Test_Accuracy: 89.4700%\n",
            "Epoch: 12, Loss: 0.6190, Test_Accuracy: 89.2800%\n",
            "Epoch: 12, Loss: 0.6160, Test_Accuracy: 88.9200%\n",
            "Epoch: 12, Loss: 0.5884, Test_Accuracy: 89.4200%\n",
            "Epoch: 12, Loss: 0.6494, Test_Accuracy: 89.5000%\n",
            "Epoch: 12, Loss: 0.6596, Test_Accuracy: 89.4600%\n",
            "Epoch: 12, Loss: 0.6699, Test_Accuracy: 89.8100%\n",
            "Epoch: 12, Loss: 0.6430, Test_Accuracy: 87.8600%\n",
            "Epoch: 12, Loss: 0.6450, Test_Accuracy: 89.9800%\n",
            "Epoch: 12, Loss: 0.5866, Test_Accuracy: 89.2200%\n",
            "Epoch: 12, Loss: 0.5780, Test_Accuracy: 89.4600%\n",
            "Epoch: 12, Loss: 0.6083, Test_Accuracy: 89.4600%\n",
            "Epoch: 12, Loss: 0.6309, Test_Accuracy: 89.9000%\n",
            "Epoch: 12, Loss: 0.6548, Test_Accuracy: 89.2400%\n",
            "Epoch: 12, Loss: 0.6139, Test_Accuracy: 88.6600%\n",
            "Starting epoch no:13\n",
            "Epoch: 13, Loss: 0.6473, Test_Accuracy: 88.6100%\n",
            "Epoch: 13, Loss: 0.6133, Test_Accuracy: 89.4900%\n",
            "Epoch: 13, Loss: 0.5910, Test_Accuracy: 89.3600%\n",
            "Epoch: 13, Loss: 0.6064, Test_Accuracy: 89.6500%\n",
            "Epoch: 13, Loss: 0.6388, Test_Accuracy: 89.2900%\n",
            "Epoch: 13, Loss: 0.6202, Test_Accuracy: 89.6600%\n",
            "Epoch: 13, Loss: 0.6198, Test_Accuracy: 89.6700%\n",
            "Epoch: 13, Loss: 0.6138, Test_Accuracy: 89.5500%\n",
            "Epoch: 13, Loss: 0.6062, Test_Accuracy: 89.6700%\n",
            "Epoch: 13, Loss: 0.6632, Test_Accuracy: 89.6000%\n",
            "Epoch: 13, Loss: 0.6424, Test_Accuracy: 89.4300%\n",
            "Epoch: 13, Loss: 0.5803, Test_Accuracy: 89.6300%\n",
            "Epoch: 13, Loss: 0.6064, Test_Accuracy: 89.6600%\n",
            "Epoch: 13, Loss: 0.6463, Test_Accuracy: 89.2400%\n",
            "Epoch: 13, Loss: 0.6478, Test_Accuracy: 89.7900%\n",
            "Epoch: 13, Loss: 0.6082, Test_Accuracy: 89.5700%\n",
            "Epoch: 13, Loss: 0.6473, Test_Accuracy: 89.6200%\n",
            "Epoch: 13, Loss: 0.5553, Test_Accuracy: 89.3700%\n",
            "Starting epoch no:14\n",
            "Epoch: 14, Loss: 0.5765, Test_Accuracy: 89.8200%\n",
            "Epoch: 14, Loss: 0.6050, Test_Accuracy: 89.6200%\n",
            "Epoch: 14, Loss: 0.6067, Test_Accuracy: 89.1200%\n",
            "Epoch: 14, Loss: 0.5795, Test_Accuracy: 89.2800%\n",
            "Epoch: 14, Loss: 0.6037, Test_Accuracy: 89.7200%\n",
            "Epoch: 14, Loss: 0.6381, Test_Accuracy: 88.6500%\n",
            "Epoch: 14, Loss: 0.6493, Test_Accuracy: 89.7800%\n",
            "Epoch: 14, Loss: 0.5909, Test_Accuracy: 89.5300%\n",
            "Epoch: 14, Loss: 0.5764, Test_Accuracy: 89.3100%\n",
            "Epoch: 14, Loss: 0.6514, Test_Accuracy: 89.7300%\n",
            "Epoch: 14, Loss: 0.5851, Test_Accuracy: 90.0700%\n",
            "Epoch: 14, Loss: 0.5972, Test_Accuracy: 89.8500%\n",
            "Epoch: 14, Loss: 0.6020, Test_Accuracy: 89.3400%\n",
            "Epoch: 14, Loss: 0.6095, Test_Accuracy: 89.2500%\n",
            "Epoch: 14, Loss: 0.6159, Test_Accuracy: 88.4200%\n",
            "Epoch: 14, Loss: 0.6356, Test_Accuracy: 89.6100%\n",
            "Epoch: 14, Loss: 0.6165, Test_Accuracy: 89.8900%\n",
            "Epoch: 14, Loss: 0.6180, Test_Accuracy: 90.1900%\n",
            "Starting epoch no:15\n",
            "Epoch: 15, Loss: 0.6207, Test_Accuracy: 89.7600%\n",
            "Epoch: 15, Loss: 0.6195, Test_Accuracy: 89.3900%\n",
            "Epoch: 15, Loss: 0.5851, Test_Accuracy: 89.4800%\n",
            "Epoch: 15, Loss: 0.5746, Test_Accuracy: 89.8900%\n",
            "Epoch: 15, Loss: 0.5730, Test_Accuracy: 89.8000%\n",
            "Epoch: 15, Loss: 0.6116, Test_Accuracy: 89.3600%\n",
            "Epoch: 15, Loss: 0.5896, Test_Accuracy: 90.0900%\n",
            "Epoch: 15, Loss: 0.5914, Test_Accuracy: 90.1300%\n",
            "Epoch: 15, Loss: 0.5974, Test_Accuracy: 89.9900%\n",
            "Epoch: 15, Loss: 0.6064, Test_Accuracy: 89.5600%\n",
            "Epoch: 15, Loss: 0.6222, Test_Accuracy: 89.6100%\n",
            "Epoch: 15, Loss: 0.5807, Test_Accuracy: 89.9800%\n",
            "Epoch: 15, Loss: 0.6196, Test_Accuracy: 90.1900%\n",
            "Epoch: 15, Loss: 0.5995, Test_Accuracy: 90.1400%\n",
            "Epoch: 15, Loss: 0.6432, Test_Accuracy: 89.5300%\n",
            "Epoch: 15, Loss: 0.5844, Test_Accuracy: 89.7700%\n",
            "Epoch: 15, Loss: 0.5909, Test_Accuracy: 89.2100%\n",
            "Epoch: 15, Loss: 0.5950, Test_Accuracy: 89.4000%\n",
            "The training has finished\n"
          ]
        }
      ]
    },
    {
      "cell_type": "code",
      "source": [
        "# Saving our trained model inside a path\n",
        "path = '/content/FashionMNIST-cnn.pth'\n",
        "torch.save(cnn.state_dict(), path)"
      ],
      "metadata": {
        "id": "QdQHtDRpnNtj"
      },
      "execution_count": null,
      "outputs": []
    },
    {
      "cell_type": "code",
      "source": [
        "# loading the saved model\n",
        "# For loading the model you have to create the exact same CNN structure in a class\n",
        "# And then make an instance of that class\n",
        "# Since I already have that class in code above, I just need to make an instance\n",
        "\n",
        "path ='/content/FashionMNIST-cnn.pth'\n",
        "\n",
        "new_cnn = CNN()\n",
        "cnn.to(device)\n",
        "\n",
        "new_cnn.load_state_dict(torch.load(path))"
      ],
      "metadata": {
        "colab": {
          "base_uri": "https://localhost:8080/"
        },
        "id": "t7jZxjoUnjOg",
        "outputId": "c9ac6286-a034-49ba-9904-7d98b4f6ee7c"
      },
      "execution_count": null,
      "outputs": [
        {
          "output_type": "stream",
          "name": "stderr",
          "text": [
            "<ipython-input-28-a89ac0594f2b>:11: FutureWarning: You are using `torch.load` with `weights_only=False` (the current default value), which uses the default pickle module implicitly. It is possible to construct malicious pickle data which will execute arbitrary code during unpickling (See https://github.com/pytorch/pytorch/blob/main/SECURITY.md#untrusted-models for more details). In a future release, the default value for `weights_only` will be flipped to `True`. This limits the functions that could be executed during unpickling. Arbitrary objects will no longer be allowed to be loaded via this mode unless they are explicitly allowlisted by the user via `torch.serialization.add_safe_globals`. We recommend you start setting `weights_only=True` for any use case where you don't have full control of the loaded file. Please open an issue on GitHub for any issues related to this experimental feature.\n",
            "  new_cnn.load_state_dict(torch.load(path))\n"
          ]
        },
        {
          "output_type": "execute_result",
          "data": {
            "text/plain": [
              "<All keys matched successfully>"
            ]
          },
          "metadata": {},
          "execution_count": 28
        }
      ]
    },
    {
      "cell_type": "code",
      "source": [
        "# Final Test Accuracy, Confusion matrix, Class_accuracy\n",
        "\n",
        "from sklearn.metrics import confusion_matrix\n",
        "\n",
        "correct = 0\n",
        "total = 0\n",
        "\n",
        "predlist = torch.zeros(0, dtype = torch.long, device = 'cpu')\n",
        "labellist= torch.zeros(0, dtype = torch.long, device = 'cpu')\n",
        "\n",
        "with torch.no_grad():\n",
        "    for data in test_loader:\n",
        "        images, labels = data\n",
        "\n",
        "        images = images.to(device)\n",
        "        labels = labels.to(device)\n",
        "\n",
        "        outputs = cnn(images)\n",
        "\n",
        "        _, pred = torch.max(outputs.data, 1)\n",
        "        total += labels.size(0)\n",
        "        correct += (pred == labels).sum().item()\n",
        "\n",
        "        predlist = torch.cat([predlist, pred.view(-1).cpu()])\n",
        "        labellist = torch.cat([labellist, labels.view(-1).cpu()])\n",
        "\n",
        "# Final Test Accuracy\n",
        "accuracy = 100*(correct/total)\n",
        "print(f'Final Test_Accuracy: {accuracy:.4f}%\\n')\n",
        "\n",
        "# Confusion matrix\n",
        "conf_mat = confusion_matrix(labellist.numpy(), predlist.numpy())\n",
        "print(\"Confusion matrix:\")\n",
        "print(conf_mat)\n",
        "\n",
        "# Class_accuracy\n",
        "class_accuracy = 100*(conf_mat.diagonal()/conf_mat.sum(1))\n",
        "print(\"\\nEach class accuracy:\")\n",
        "print(class_accuracy)"
      ],
      "metadata": {
        "colab": {
          "base_uri": "https://localhost:8080/"
        },
        "id": "-LMSfodFTC0_",
        "outputId": "f9cf26ff-402c-4d1a-ba18-ae857dfed507"
      },
      "execution_count": null,
      "outputs": [
        {
          "output_type": "stream",
          "name": "stdout",
          "text": [
            "Final Test_Accuracy: 89.5700%\n",
            "\n",
            "Confusion matrix:\n",
            "[[798   1   8  19   2   1 165   0   5   1]\n",
            " [  3 977   0  15   0   0   3   0   2   0]\n",
            " [  8   0 805  10  85   0  91   0   1   0]\n",
            " [ 17   4   4 903  25   0  42   0   5   0]\n",
            " [  1   2  45  24 875   0  50   0   3   0]\n",
            " [  0   0   0   0   0 962   0  32   0   6]\n",
            " [ 88   2  46  19 103   0 731   0  11   0]\n",
            " [  0   0   0   0   0   3   0 959   0  38]\n",
            " [  2   0   4   2   1   2   3   5 981   0]\n",
            " [  0   0   0   0   0   3   0  30   1 966]]\n",
            "\n",
            "Each class accuracy:\n",
            "[79.8 97.7 80.5 90.3 87.5 96.2 73.1 95.9 98.1 96.6]\n"
          ]
        }
      ]
    }
  ]
}